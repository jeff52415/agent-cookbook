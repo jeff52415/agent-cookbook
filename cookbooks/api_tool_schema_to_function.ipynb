{
 "cells": [
  {
   "cell_type": "code",
   "execution_count": null,
   "metadata": {},
   "outputs": [],
   "source": [
    "# Simulated MCP tool metadata\n",
    "tool_schema = {\n",
    "    \"name\": \"get_weather\",\n",
    "    \"description\": \"Returns the weather for a given city using wttr.in\",\n",
    "    \"parameters\": {\"city\": \"str\"},\n",
    "    \"endpoint\": \"https://wttr.in\"\n",
    "}\n",
    "\n",
    "# Step 1: Generate Python-callable wrapper\n",
    "\n",
    "\n",
    "def make_tool_function(tool):\n",
    "    def tool_func(city):\n",
    "        import requests\n",
    "        response = requests.get(\n",
    "            f\"{tool['endpoint']}/{city}\",\n",
    "            params={\"format\": \"j1\"}  # JSON output\n",
    "        )\n",
    "        return response.json()\n",
    "    \n",
    "    tool_func.__name__ = tool[\"name\"]\n",
    "    tool_func.__doc__ = tool[\"description\"]\n",
    "    return tool_func\n",
    "\n",
    "\n",
    "# Step 2: Wrap and inject\n",
    "tool_fn = make_tool_function(tool_schema)\n",
    "exec_env = {\"get_weather\": tool_fn}\n",
    "\n",
    "# Simulate what CodeAgent would do\n",
    "code = 'result = get_weather(\"Tokyo\")\\nprint(result[\"current_condition\"][0][\"temp_C\"])'\n",
    "exec(code, {}, exec_env)"
   ]
  },
  {
   "cell_type": "code",
   "execution_count": null,
   "metadata": {},
   "outputs": [],
   "source": []
  }
 ],
 "metadata": {
  "kernelspec": {
   "display_name": "agent",
   "language": "python",
   "name": "agent"
  },
  "language_info": {
   "codemirror_mode": {
    "name": "ipython",
    "version": 3
   },
   "file_extension": ".py",
   "mimetype": "text/x-python",
   "name": "python",
   "nbconvert_exporter": "python",
   "pygments_lexer": "ipython3",
   "version": "3.13.1"
  }
 },
 "nbformat": 4,
 "nbformat_minor": 2
}
