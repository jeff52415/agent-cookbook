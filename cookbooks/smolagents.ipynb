{
 "cells": [
  {
   "cell_type": "code",
   "execution_count": null,
   "metadata": {},
   "outputs": [],
   "source": [
    "from smolagents import CodeAgent, LiteLLMModel\n",
    "from dotenv import load_dotenv\n",
    "import os\n",
    "\n",
    "# Load environment variables from .env file\n",
    "load_dotenv()"
   ]
  },
  {
   "cell_type": "code",
   "execution_count": null,
   "metadata": {},
   "outputs": [],
   "source": [
    "model = LiteLLMModel(model_id=\"openai/gpt-4.1-mini\") # Could use 'gpt-4o'"
   ]
  },
  {
   "cell_type": "markdown",
   "metadata": {},
   "source": [
    "### Code Agent"
   ]
  },
  {
   "cell_type": "code",
   "execution_count": null,
   "metadata": {},
   "outputs": [],
   "source": [
    "code_agent = CodeAgent(tools=[], model=model, add_base_tools=True)"
   ]
  },
  {
   "cell_type": "code",
   "execution_count": null,
   "metadata": {},
   "outputs": [],
   "source": [
    "code_agent.run(\n",
    "    \"Could you give me the 118th number in the Fibonacci sequence?\",\n",
    ")"
   ]
  },
  {
   "cell_type": "code",
   "execution_count": null,
   "metadata": {},
   "outputs": [],
   "source": [
    "code_agent.run(\n",
    "    \"Could you get me the title of the page at url 'https://huggingface.co/blog'?\",\n",
    ")"
   ]
  },
  {
   "cell_type": "code",
   "execution_count": null,
   "metadata": {},
   "outputs": [],
   "source": [
    "code_agent.memory.get_full_steps()\n",
    "code_agent.memory.steps[1].model_input_messages\n",
    "\n",
    "#code_agent.logs[2]\n",
    "#pprint.pprint(code_agent.logs[0].system_prompt)"
   ]
  },
  {
   "cell_type": "markdown",
   "metadata": {},
   "source": [
    "### Tool Agent"
   ]
  },
  {
   "cell_type": "code",
   "execution_count": null,
   "metadata": {},
   "outputs": [],
   "source": [
    "from smolagents import ToolCallingAgent\n",
    "\n",
    "tool_agent = ToolCallingAgent(tools=[], model=model, add_base_tools=True)\n",
    "tool_agent.run(\"Could you get me the title of the page at url 'https://huggingface.co/blog'?\")"
   ]
  },
  {
   "cell_type": "markdown",
   "metadata": {},
   "source": [
    "### MCP Agent"
   ]
  },
  {
   "cell_type": "code",
   "execution_count": null,
   "metadata": {},
   "outputs": [],
   "source": [
    "from smolagents import ToolCollection, CodeAgent\n",
    "from mcp import StdioServerParameters"
   ]
  },
  {
   "cell_type": "code",
   "execution_count": null,
   "metadata": {},
   "outputs": [],
   "source": [
    "server_parameters = StdioServerParameters(\n",
    "    command=\"npx\",\n",
    "    args=[\"@gongrzhe/server-gmail-autoauth-mcp\"],\n",
    "    env={\"UV_PYTHON\": \"3.13\", **os.environ},\n",
    ")\n",
    "\n",
    "\n",
    "with ToolCollection.from_mcp(server_parameters, trust_remote_code=True) as tool_collection:\n",
    "    agent = CodeAgent(tools=[*tool_collection.tools], add_base_tools=True, model=model)\n",
    "    agent.run(\"\"\"Help me to find email send by TTBank in last 3 days, (\"\"\"\n",
    "              \"\"\"if you can find it, reply thanks to TTBank!\"\"\")"
   ]
  },
  {
   "cell_type": "code",
   "execution_count": null,
   "metadata": {},
   "outputs": [],
   "source": [
    "server_parameters = StdioServerParameters(\n",
    "        command=\"docker\",\n",
    "        args=[\n",
    "            \"run\",\n",
    "            \"-i\",\n",
    "            \"--rm\",\n",
    "            \"-e\",\n",
    "            \"GITHUB_PERSONAL_ACCESS_TOKEN\",\n",
    "            \"ghcr.io/github/github-mcp-server\"\n",
    "        ],\n",
    "        env={\n",
    "            \"GITHUB_PERSONAL_ACCESS_TOKEN\": os.getenv(\"GITHUB_PERSONAL_ACCESS_TOKEN\"),\n",
    "            **os.environ,\n",
    "        },\n",
    "    )\n",
    "\n",
    "prompt = \"\"\"Could you locate my (jeff52415) repository named leetcode-cookbook, please use github tool instead of searching on github.com\n",
    "I'm currently practicing LeetCode by adding one new example per day to my `leetcode-cookbook` repository.\n",
    "\n",
    "Do the following without asking for confirmation:\n",
    "\n",
    "- Review the existing repository structure\n",
    "- Select and add **one new LeetCode problem solution** that is not already present in the repo\n",
    "- Place the solution in the appropriate category folder under `problems/`\n",
    "- Use the filename format: `<id>-<slug>-<difficulty>.py`\n",
    "- At the top of the file, include a comment block with:\n",
    "  - Title\n",
    "  - ID\n",
    "  - Difficulty\n",
    "  - Link\n",
    "  - A short human-style note (e.g., what this problem reinforced or why it's interesting)\n",
    "- Implement the solution using a `Solution` class and appropriate methods\n",
    "- Include inline comments explaining the approach, trade-offs, and time/space complexity\n",
    "\n",
    "Example format:\n",
    "\n",
    "```python\n",
    "ID: 198\n",
    "Title: House Robber\n",
    "Difficulty: Medium\n",
    "Link: https://leetcode.com/problems/house-robber/\n",
    "\n",
    "Note: Practicing daily — today’s problem is a classic DP case.\n",
    "\n",
    "\n",
    "class Solution:\n",
    "    def rob(self, nums: List[int]) -> int:\n",
    "        # dp[i] = max money that can be robbed up to index i\n",
    "        # Transition: dp[i] = max(dp[i-1], dp[i-2] + nums[i])\n",
    "        # Time: O(n), Space: O(1)\n",
    "        pass  # TODO: implement\n",
    "\n",
    "        \n",
    "    \n",
    "Then create a branch then make a pull request.\n",
    "\n",
    "\n",
    "\"\"\"\n",
    "with ToolCollection.from_mcp(server_parameters, trust_remote_code=True) as tool_collection:\n",
    "    agent = CodeAgent(tools=[*tool_collection.tools], add_base_tools=True, model=model)\n",
    "    agent.run(prompt)"
   ]
  },
  {
   "cell_type": "code",
   "execution_count": null,
   "metadata": {},
   "outputs": [],
   "source": [
    "with ToolCollection.from_mcp(server_parameters, trust_remote_code=True) as tool_collection:\n",
    "    agent = CodeAgent(tools=[*tool_collection.tools], add_base_tools=True, model=model)\n",
    "    agent.run(\"\"\"Show me the github repo structure of my project: leetcode-cookbook, use github tool, the url is: https://github.com/jeff52415/leetcode-cookbook/tree/main\"\"\")"
   ]
  },
  {
   "cell_type": "code",
   "execution_count": null,
   "metadata": {},
   "outputs": [],
   "source": [
    "with ToolCollection.from_mcp({\"url\": \"http://127.0.0.1:8000/sse\"}, trust_remote_code=True) as tool_collection:\n",
    "    agent = CodeAgent(tools=[*tool_collection.tools], add_base_tools=True)\n",
    "    agent.run(\"Please find a remedy for hangover.\")"
   ]
  },
  {
   "cell_type": "markdown",
   "metadata": {},
   "source": [
    "### Tracinig"
   ]
  },
  {
   "cell_type": "code",
   "execution_count": null,
   "metadata": {},
   "outputs": [],
   "source": [
    "#!python -m phoenix.server.main serve\n",
    "from phoenix.otel import register\n",
    "from openinference.instrumentation.smolagents import SmolagentsInstrumentor\n",
    "\n",
    "register()\n",
    "SmolagentsInstrumentor().instrument()"
   ]
  },
  {
   "cell_type": "code",
   "execution_count": null,
   "metadata": {},
   "outputs": [],
   "source": [
    "from smolagents import (\n",
    "    CodeAgent,\n",
    "    ToolCallingAgent,\n",
    "    WebSearchTool,\n",
    "    VisitWebpageTool,\n",
    "    InferenceClientModel,\n",
    ")\n",
    "\n",
    "model = InferenceClientModel()\n",
    "\n",
    "search_agent = ToolCallingAgent(\n",
    "    tools=[WebSearchTool(), VisitWebpageTool()],\n",
    "    model=model,\n",
    "    name=\"search_agent\",\n",
    "    description=\"This is an agent that can do web search.\",\n",
    ")\n",
    "\n",
    "manager_agent = CodeAgent(\n",
    "    tools=[],\n",
    "    model=model,\n",
    "    managed_agents=[search_agent],\n",
    ")\n",
    "manager_agent.run(\n",
    "    \"If the US keeps its 2024 growth rate, how many years will it take for the GDP to double?\"\n",
    ")"
   ]
  },
  {
   "cell_type": "markdown",
   "metadata": {},
   "source": [
    "### Tool"
   ]
  },
  {
   "cell_type": "code",
   "execution_count": null,
   "metadata": {},
   "outputs": [],
   "source": [
    "#from langchain.agents import load_tools\n",
    "from langchain_community.tools import ShellTool\n",
    "\n",
    "shell_ = ShellTool()\n",
    "#shell_tool = Tool.from_langchain(shell_,)"
   ]
  }
 ],
 "metadata": {
  "kernelspec": {
   "display_name": "agent",
   "language": "python",
   "name": "agent"
  },
  "language_info": {
   "codemirror_mode": {
    "name": "ipython",
    "version": 3
   },
   "file_extension": ".py",
   "mimetype": "text/x-python",
   "name": "python",
   "nbconvert_exporter": "python",
   "pygments_lexer": "ipython3",
   "version": "3.13.1"
  }
 },
 "nbformat": 4,
 "nbformat_minor": 2
}
