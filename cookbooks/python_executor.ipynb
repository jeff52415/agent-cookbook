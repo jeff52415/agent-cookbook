{
 "cells": [
  {
   "cell_type": "code",
   "execution_count": null,
   "metadata": {},
   "outputs": [],
   "source": [
    "import ast\n",
    "\n",
    "\n",
    "class SecurePythonExecutor:\n",
    "    def __init__(self, allowed_imports=None, max_operations=1000):\n",
    "        self.allowed_imports = set(allowed_imports or [])\n",
    "        self.max_operations = max_operations\n",
    "        self.operation_count = 0\n",
    "\n",
    "    def _check_imports(self, node):\n",
    "        if isinstance(node, ast.Import):\n",
    "            for alias in node.names:\n",
    "                if alias.name not in self.allowed_imports:\n",
    "                    raise ImportError(f\"Import of '{alias.name}' is not allowed.\")\n",
    "        elif isinstance(node, ast.ImportFrom):\n",
    "            if node.module not in self.allowed_imports:\n",
    "                raise ImportError(f\"Import from '{node.module}' is not allowed.\")\n",
    "\n",
    "    def _count_operations(self, node):\n",
    "        self.operation_count += 1\n",
    "        if self.operation_count > self.max_operations:\n",
    "            raise RuntimeError(\"Operation limit exceeded.\")\n",
    "\n",
    "    def _validate_node(self, node):\n",
    "        for child in ast.iter_child_nodes(node):\n",
    "            self._check_imports(child)\n",
    "            self._count_operations(child)\n",
    "            self._validate_node(child)\n",
    "\n",
    "    def execute(self, code_str, exec_globals=None, exec_locals=None):\n",
    "        self.operation_count = 0\n",
    "        parsed_ast = ast.parse(code_str, mode='exec')\n",
    "        self._validate_node(parsed_ast)\n",
    "        exec_globals = exec_globals or {}\n",
    "        exec_locals = exec_locals or {}\n",
    "        exec(compile(parsed_ast, filename=\"<ast>\", mode=\"exec\"), exec_globals, exec_locals)\n",
    "        return exec_locals"
   ]
  },
  {
   "cell_type": "code",
   "execution_count": null,
   "metadata": {},
   "outputs": [],
   "source": [
    "executor = SecurePythonExecutor(allowed_imports=['math'], max_operations=100)\n",
    "code = \"\"\"\n",
    "import math\n",
    "result = math.sqrt(16)\n",
    "\"\"\"\n",
    "locals_after_exec = executor.execute(code)\n",
    "print(locals_after_exec['result'])  # Output: 4.0"
   ]
  },
  {
   "cell_type": "code",
   "execution_count": null,
   "metadata": {},
   "outputs": [],
   "source": [
    "code = \"\"\"\n",
    "import math\n",
    "import numpy as np\n",
    "result = math.sqrt(16)\n",
    "\"\"\"\n",
    "parsed_ast = ast.parse(code, mode='exec')\n",
    "for child in ast.iter_child_nodes(parsed_ast):\n",
    "    print(child)"
   ]
  },
  {
   "cell_type": "code",
   "execution_count": null,
   "metadata": {},
   "outputs": [],
   "source": [
    "from smolagents.local_python_executor import LocalPythonExecutor\n",
    "\n",
    "# Set up custom executor, authorize package \"numpy\"\n",
    "custom_executor = LocalPythonExecutor([\"numpy\"])\n",
    "\n",
    "# Utilisty for pretty printing errors\n",
    "\n",
    "\n",
    "def run_capture_exception(command: str):\n",
    "    try:\n",
    "        return custom_executor(harmful_command)\n",
    "    except Exception as e:\n",
    "        print(\"ERROR:\\n\", e)\n",
    "\n",
    "\n",
    "# Undefined command just do not work\n",
    "harmful_command=\"import numpy as np; output = np.array([1, 2, 3])\"\n",
    "run_capture_exception(harmful_command)"
   ]
  },
  {
   "cell_type": "markdown",
   "metadata": {},
   "source": []
  },
  {
   "cell_type": "code",
   "execution_count": null,
   "metadata": {},
   "outputs": [],
   "source": []
  }
 ],
 "metadata": {
  "kernelspec": {
   "display_name": "agent",
   "language": "python",
   "name": "agent"
  },
  "language_info": {
   "codemirror_mode": {
    "name": "ipython",
    "version": 3
   },
   "file_extension": ".py",
   "mimetype": "text/x-python",
   "name": "python",
   "nbconvert_exporter": "python",
   "pygments_lexer": "ipython3",
   "version": "3.13.1"
  }
 },
 "nbformat": 4,
 "nbformat_minor": 2
}
