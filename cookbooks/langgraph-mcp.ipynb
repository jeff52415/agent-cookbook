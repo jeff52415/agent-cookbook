{
 "cells": [
  {
   "cell_type": "code",
   "execution_count": null,
   "metadata": {},
   "outputs": [],
   "source": [
    "from langchain_mcp_adapters.client import MultiServerMCPClient\n",
    "from langgraph.prebuilt import create_react_agent\n",
    "from dotenv import load_dotenv\n",
    "import os\n",
    "load_dotenv()\n",
    "\n",
    "# reference: https://github.com/langchain-ai/langchain-mcp/blob/main/examples/langgraph-mcp.ipynb\n",
    "\n",
    "client = MultiServerMCPClient(\n",
    "    {\n",
    "        \"github\": {\n",
    "            \"command\": \"docker\",\n",
    "            # Replace with absolute path to your math_server.py file\n",
    "            \"args\": [\n",
    "            \"run\",\n",
    "            \"-i\",\n",
    "            \"--rm\",\n",
    "            \"-e\",\n",
    "            \"GITHUB_PERSONAL_ACCESS_TOKEN\",\n",
    "            \"ghcr.io/github/github-mcp-server\"],\n",
    "            \"env\": {\n",
    "                \"GITHUB_PERSONAL_ACCESS_TOKEN\": os.getenv(\"GITHUB_PERSONAL_ACCESS_TOKEN\"),\n",
    "                **os.environ,\n",
    "            },\n",
    "            \"transport\": \"stdio\",\n",
    "        }\n",
    "    }\n",
    ")\n"
   ]
  },
  {
   "cell_type": "code",
   "execution_count": null,
   "metadata": {},
   "outputs": [],
   "source": [
    "tools = await client.get_tools()\n",
    "agent = create_react_agent(\n",
    "    \"openai:gpt-4.1\",\n",
    "    tools\n",
    ")\n",
    "\n",
    "github_response = await agent.ainvoke(\n",
    "    {\"messages\": [{\"role\": \"user\", \"content\": \"List out public repo in my github account\"}]}\n",
    ")\n"
   ]
  },
  {
   "cell_type": "code",
   "execution_count": null,
   "metadata": {},
   "outputs": [],
   "source": [
    "print(github_response[\"messages\"][-1].content)"
   ]
  },
  {
   "cell_type": "markdown",
   "metadata": {},
   "source": [
    "---"
   ]
  },
  {
   "cell_type": "code",
   "execution_count": null,
   "metadata": {},
   "outputs": [],
   "source": [
    "# Create server parameters for stdio connection\n",
    "from mcp import ClientSession, StdioServerParameters\n",
    "from mcp.client.stdio import stdio_client\n",
    "\n",
    "from langchain_mcp_adapters.tools import load_mcp_tools\n",
    "from langgraph.prebuilt import create_react_agent\n",
    "\n",
    "server_params = StdioServerParameters(\n",
    "    command=\"docker\",\n",
    "    # Make sure to update to the full absolute path to your math_server.py file\n",
    "    args=[\n",
    "    \"run\",\n",
    "    \"-i\",\n",
    "    \"--rm\",\n",
    "    \"-e\",\n",
    "    \"GITHUB_PERSONAL_ACCESS_TOKEN\",\n",
    "    \"ghcr.io/github/github-mcp-server\"],\n",
    "    env={\n",
    "        \"GITHUB_PERSONAL_ACCESS_TOKEN\": os.getenv(\"GITHUB_PERSONAL_ACCESS_TOKEN\"),\n",
    "        **os.environ,\n",
    "    },\n",
    "    transport=\"stdio\",\n",
    ")\n",
    "\n",
    "async with stdio_client(server_params) as (read, write):\n",
    "    async with ClientSession(read, write) as session:\n",
    "        # Initialize the connection\n",
    "        await session.initialize()\n",
    "\n",
    "        # Get tools\n",
    "        tools = await load_mcp_tools(session)\n",
    "\n",
    "        # Create and run the agent\n",
    "        agent = create_react_agent(\"openai:gpt-4.1\", tools)\n",
    "        agent_response = await agent.ainvoke({\"messages\": \"List out public repo in my github account\"})"
   ]
  },
  {
   "cell_type": "code",
   "execution_count": null,
   "metadata": {},
   "outputs": [],
   "source": [
    "print(agent_response[\"messages\"][-1].content)"
   ]
  },
  {
   "cell_type": "code",
   "execution_count": null,
   "metadata": {},
   "outputs": [],
   "source": []
  }
 ],
 "metadata": {
  "kernelspec": {
   "display_name": "agent",
   "language": "python",
   "name": "agent"
  },
  "language_info": {
   "codemirror_mode": {
    "name": "ipython",
    "version": 3
   },
   "file_extension": ".py",
   "mimetype": "text/x-python",
   "name": "python",
   "nbconvert_exporter": "python",
   "pygments_lexer": "ipython3",
   "version": "3.13.1"
  }
 },
 "nbformat": 4,
 "nbformat_minor": 2
}
